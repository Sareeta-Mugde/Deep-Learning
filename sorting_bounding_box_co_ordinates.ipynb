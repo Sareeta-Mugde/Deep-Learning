{
  "nbformat": 4,
  "nbformat_minor": 0,
  "metadata": {
    "colab": {
      "name": "sorting bounding box co-ordinates.ipynb",
      "provenance": [],
      "authorship_tag": "ABX9TyP5CZRhscs/xBGe1riOG3yM",
      "include_colab_link": true
    },
    "kernelspec": {
      "name": "python3",
      "display_name": "Python 3"
    }
  },
  "cells": [
    {
      "cell_type": "markdown",
      "metadata": {
        "id": "view-in-github",
        "colab_type": "text"
      },
      "source": [
        "<a href=\"https://colab.research.google.com/github/Sareeta-Mugde/Deep-Learning/blob/master/sorting_bounding_box_co_ordinates.ipynb\" target=\"_parent\"><img src=\"https://colab.research.google.com/assets/colab-badge.svg\" alt=\"Open In Colab\"/></a>"
      ]
    },
    {
      "cell_type": "code",
      "metadata": {
        "id": "s4As9XO-SEVf",
        "colab_type": "code",
        "colab": {
          "base_uri": "https://localhost:8080/",
          "height": 75
        },
        "outputId": "effaf626-dcc1-4bcb-f907-a7659b1ca45a"
      },
      "source": [
        "import numpy as np \n",
        "import scipy.spatial.distance as distance\n",
        " \n",
        "def sorting_bounding_box(points):\n",
        "    \n",
        "    points = list(map(lambda x:[x[0],x[1][0],x[1][2]],points))\n",
        "    # print(points)\n",
        "    points_sum = list(map(lambda x: [x[0],x[1],sum(x[1]),x[2][1]],points))\n",
        "    x_y_cordinate = list(map(lambda x: x[1],points_sum))\n",
        "    final_sorted_list = []\n",
        "    while True:\n",
        "        try:\n",
        "            new_sorted_text = []\n",
        "            initial_value_A  = [i for i in sorted(enumerate(points_sum), key=lambda x:x[1][2])][0]\n",
        "    #         print(initial_value_A)\n",
        "            threshold_value = abs(initial_value_A[1][1][1] - initial_value_A[1][3])\n",
        "            threshold_value = (threshold_value/2) + 5\n",
        "            del points_sum[initial_value_A[0]]\n",
        "            del x_y_cordinate[initial_value_A[0]]\n",
        "    #         print(threshold_value)\n",
        "            A = [initial_value_A[1][1]]\n",
        "            K = list(map(lambda x:[x,abs(x[1]-initial_value_A[1][1][1])],x_y_cordinate))\n",
        "            K = [[count,i]for count,i in enumerate(K)]\n",
        "            K = [i for i in K if i[1][1] <= threshold_value]\n",
        "            sorted_K = list(map(lambda x:[x[0],x[1][0]],sorted(K,key=lambda x:x[1][1])))\n",
        "            B = []\n",
        "            points_index = []\n",
        "            for tmp_K in sorted_K:\n",
        "                points_index.append(tmp_K[0])\n",
        "                B.append(tmp_K[1])\n",
        "            dist = distance.cdist(A,B)[0]\n",
        "            d_index = [i for i in sorted(zip(dist,points_index), key=lambda x:x[0])]\n",
        "            new_sorted_text.append(initial_value_A[1][0])\n",
        "\n",
        "            index = []\n",
        "            for j in d_index:\n",
        "                new_sorted_text.append(points_sum[j[1]][0])\n",
        "                index.append(j[1])\n",
        "            for n in sorted(index, reverse=True):\n",
        "                del points_sum[n]\n",
        "                del x_y_cordinate[n]\n",
        "            final_sorted_list.append(new_sorted_text)\n",
        "            # print(new_sorted_text)\n",
        "        except Exception as e:\n",
        "            print(e)\n",
        "            break\n",
        "\n",
        "    return final_sorted_list\n",
        "if  __name__ == '__main__':\n",
        "# example points\n",
        "    points = [['11/10,', [[466.66666, 261.33334],\n",
        "       [532.     , 261.33334],\n",
        "       [532.     , 285.33334],\n",
        "       [466.66666, 285.33334]]],\n",
        "       ['st', [[556.     , 261.33334],\n",
        "       [582.6667 , 261.33334],\n",
        "       [582.6667 , 285.33334],\n",
        "       [556.     , 285.33334]]], ['Str', [[586.6667 , 261.33334],\n",
        "       [626.6667 , 261.33334],\n",
        "       [626.6667 , 285.33334],\n",
        "       [586.6667 , 285.33334]]], ['R', [[377.33334, 262.66666],\n",
        "       [400.     , 262.66666],\n",
        "       [400.     , 285.33334],\n",
        "       [377.33334, 285.33334]]], ['si.', [[410.66666, 264.     ],\n",
        "       [442.66666, 264.     ],\n",
        "       [442.66666, 285.33334],\n",
        "       [410.66666, 285.33334]]], ['1.', [[544.     , 264.     ],\n",
        "       [561.3333 , 264.     ],\n",
        "       [561.3333 , 285.33334],\n",
        "       [544.     , 285.33334]]], ['et,', [[637.3333, 264.    ],\n",
        "       [670.6667, 264.    ],\n",
        "       [670.6667, 288.    ],\n",
        "       [637.3333, 288.    ]]], ['et', [[396.     , 265.33334],\n",
        "       [414.66666, 265.33334],\n",
        "       [414.66666, 285.33334],\n",
        "       [396.     , 285.33334]]], [\"'el\", [[622.6667 , 265.33334],\n",
        "       [641.3333 , 265.33334],\n",
        "       [641.3333 , 285.33334],\n",
        "       [622.6667 , 285.33334]]], ['in', [[529.3333 , 276.     ],\n",
        "       [537.3333 , 276.     ],\n",
        "       [537.3333 , 285.33334],\n",
        "       [529.3333 , 285.33334]]], ['Corporati', [[378.73196, 287.75485],\n",
        "       [482.9534 , 289.35825],\n",
        "       [482.57034, 314.25494],\n",
        "       [378.3489 , 312.65155]]], ['ion', [[478.66666, 288.     ],\n",
        "       [518.6667 , 288.     ],\n",
        "       [518.6667 , 309.33334],\n",
        "       [478.66666, 309.33334]]], ['Colony,', [[525.82104, 285.5305 ],\n",
        "       [614.4748 , 291.07132],\n",
        "       [613.00653, 314.5629 ],\n",
        "       [524.3528 , 309.02206]]], ['T.Nafgg,', [[377.85098, 309.27054],\n",
        "       [470.8392 , 316.4235 ],\n",
        "       [468.88623, 341.81174],\n",
        "       [375.89804, 334.65878]]], ['Chennai', [[476.     , 313.33334],\n",
        "       [566.6667 , 313.33334],\n",
        "       [566.6667 , 336.     ],\n",
        "       [476.     , 336.     ]]], ['48.', [[592.     , 313.33334],\n",
        "       [626.6667 , 313.33334],\n",
        "       [626.6667 , 334.66666],\n",
        "       [592.     , 334.66666]]]]\n",
        "    print(sorting_bounding_box(points))"
      ],
      "execution_count": 1,
      "outputs": [
        {
          "output_type": "stream",
          "text": [
            "list index out of range\n",
            "[['R', 'et', 'si.', '11/10,', 'in', '1.', 'st', 'Str', \"'el\", 'et,'], ['Corporati', 'ion', 'Colony,'], ['T.Nafgg,', 'Chennai', '48.']]\n"
          ],
          "name": "stdout"
        }
      ]
    },
    {
      "cell_type": "code",
      "metadata": {
        "id": "4I5LE34RSFK3",
        "colab_type": "code",
        "colab": {}
      },
      "source": [
        "https://github.com/vigneshgig/sorting_algorthim_for_bounding_box_from_left_to_right_and_top_to_bottom/blob/master/sorting_algorthim.py"
      ],
      "execution_count": 0,
      "outputs": []
    }
  ]
}